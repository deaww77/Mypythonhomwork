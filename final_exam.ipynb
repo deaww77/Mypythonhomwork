{
 "cells": [
  {
   "cell_type": "markdown",
   "metadata": {},
   "source": [
    "# ข้อสอบปลายภาควิชา การเขียนโปรแกรมเชิงวัตถุ"
   ]
  },
  {
   "cell_type": "code",
   "execution_count": null,
   "metadata": {},
   "outputs": [],
   "source": [
    "\"\"\"\n",
    "ชื่อ - สกุล - รหัส\n",
    "นาย ชานนท์ รูปคุ้ม 6612732108\n",
    "\n",
    "\"\"\""
   ]
  },
  {
   "cell_type": "markdown",
   "metadata": {},
   "source": [
    "## 1. เขียนโปรแกรมโดยใช้กลไกลการทำงานแบบ OOP ตามข้อกำหนดดังต่อไปนี้\n",
    "\n",
    "- จงสร้างคลาส Person\" ที่มีตัวแปร \"name\" และ \"age\" ซึ่งไม่สามารถเข้าถึงผ่านตัวแปร instance ได้ และเขียน method ที่ใช้สำหรับแก้ไข \"age\" จากภายในคลาส และ \"age\" จะต้องมีค่าเพิ่มขึ้นได้อย่างเดียวเท่านั้น\n",
    "\n",
    "- ภายใน Class Person กำหนดให้มี method ชื่อ getInfo() สำหรับแสดงข้อมูลบุคคลนั้น ๆ"
   ]
  },
  {
   "cell_type": "code",
   "execution_count": 22,
   "metadata": {
    "tags": []
   },
   "outputs": [],
   "source": [
    "# เขียนโปรแกรมในช่องนี้\n",
    "class Person:\n",
    "    def __init__(self, name, age):\n",
    "        self.__name = name\n",
    "        self.__age = age\n",
    "\n",
    "    def getinfo(self):\n",
    "        print(\"name:\",self.__name)\n",
    "        print(\"age:\",self.__age)\n",
    "        \n",
    "\n",
    "    def changage(self,age):\n",
    "        if age > self.__age:\n",
    "            self.__age = age\n",
    "        else:\n",
    "            print(\"can't chang age:\",age)\n",
    "        print(\"now age:\", self.__age)"
   ]
  },
  {
   "cell_type": "code",
   "execution_count": 23,
   "metadata": {
    "tags": []
   },
   "outputs": [],
   "source": [
    "# จงสร้างตัวแปร instance จากคลาส Person\n",
    "person = Person(\"chanon\", 18)"
   ]
  },
  {
   "cell_type": "code",
   "execution_count": 24,
   "metadata": {
    "tags": []
   },
   "outputs": [
    {
     "name": "stdout",
     "output_type": "stream",
     "text": [
      "now age: 50\n"
     ]
    }
   ],
   "source": [
    "# จงกำหนดอายุให้แก่ age\n",
    "person.changage(50)"
   ]
  },
  {
   "cell_type": "code",
   "execution_count": 25,
   "metadata": {
    "tags": []
   },
   "outputs": [
    {
     "name": "stdout",
     "output_type": "stream",
     "text": [
      "name: chanon\n",
      "age: 50\n",
      "None\n"
     ]
    }
   ],
   "source": [
    "# จงแสดงข้่อมูลบุคคลของตัวแปร instance \n",
    "print(person.getinfo())\n"
   ]
  },
  {
   "cell_type": "markdown",
   "metadata": {},
   "source": [
    "## 2.จงสร้างคลาส Student ที่มีการสืบทอดคุณสมบัติจากคลาส Person ในข้อที่ 1\n",
    "\n",
    "- ในคลาส Student จะมีคุณสมบัติเพิ่มเข้ามาดังต่อไปนี้ \"student_id\" คือ รหัสนักศึกษา, \"major\" คือ สาขาวิชา และทั้งสองจะต้องเป็นคุณสมบัติที่ไม่สามารถแก้ไขได้หลังจากสร้างตัวแปร Instance แล้ว\n",
    "\n",
    "- และใน method getInfo() ให้เพิ่มการแแสดง รหัสนักศึกษา และ สาชาวิชา เข้ามาด้วย"
   ]
  },
  {
   "cell_type": "code",
   "execution_count": 31,
   "metadata": {
    "tags": []
   },
   "outputs": [],
   "source": [
    "# เขียนโปรแกรมในช่องนี้\n",
    "class Student(Person):\n",
    "    def __init__(self,student_id, mojor):\n",
    "        self.__student_id = student_id\n",
    "        self.__mojor = mojor\n",
    "        \n",
    "    def getinfo(self):\n",
    "        print(\"student_id:\",self.__student_id)\n",
    "        print(\"mojor:\",self.__mojor)\n"
   ]
  },
  {
   "cell_type": "code",
   "execution_count": 29,
   "metadata": {
    "tags": []
   },
   "outputs": [],
   "source": [
    "# จงสร้างตัวแปร instance จากคลาส Student\n",
    "student = Student(\"6612732108\",\"comsci\")\n"
   ]
  },
  {
   "cell_type": "code",
   "execution_count": 32,
   "metadata": {
    "tags": []
   },
   "outputs": [
    {
     "name": "stdout",
     "output_type": "stream",
     "text": [
      "student_id: 6612732108\n",
      "mojor: comsci\n"
     ]
    }
   ],
   "source": [
    "# จงแสดงข้่อมูลนักเรียนของตัวแปร instance \n",
    "student.getinfo()\n"
   ]
  },
  {
   "cell_type": "markdown",
   "metadata": {},
   "source": [
    "## 3.จงสร้างคลาส ComSciStudent ที่มีการสืบทอดคุณสมบัติจากคลาส Student ในข้อที่ 2\n",
    "\n",
    "- ในคลาส ComSciStudent จะมีคุณสมบัติที่รับเข้ามาแค่ \"student_id\" คือ รหัสนักศึกษา, แต่ \"major\" คือ สาขาวิชา จะมีค่า default เป็น \"Computer Science\" และทั้งสองจะต้องเป็นคุณสมบัติที่ไม่สามารถแก้ไขได้หลังจากสร้างตัวแปร Instance แล้ว\n",
    "\n",
    "- ในคลาส ComSciStudent จะมีคุณสมบัติที่เพิ่มเข้ามา อีก 1 ตัว คือ ความถนัด หรือ aptitude เพิ่มเข้ามา ซึ่งจะสามารถกำหนดได้ในกระบวนการสร้างตัวแปร instance และจะสามารถแก้ไขได้อีกโดยการแก้ไขผ่าน method ได้เท่านั้น\n",
    "\n",
    "\n",
    "- ในคลาส ComSciStudent จะมี method ชื่อว่า Coding() ซึ่งจะนำเสนอข้อมูลว่า นักศึกษา รหัสนักศึกษา ชื่อ กำลังเขียนโปรแกรมอยู่\n",
    "\n",
    "- ในคลาส ComSciStudent จะมี method ชื่อว่า getAptitude() ซึ่งจะนำเสนอข้อมูลว่า นักศึกษา รหัสนักศึกษา ชื่อ มีความถนัดเรื่อง ..."
   ]
  },
  {
   "cell_type": "code",
   "execution_count": 37,
   "metadata": {
    "tags": []
   },
   "outputs": [],
   "source": [
    "# เขียนโปรแกรมในช่องนี้\n",
    "class ComSciStudent(Student):\n",
    "    def __init__(self,student_id, mojor,aptitude):  \n",
    "        self.__student_id = student_id\n",
    "        self.__mojor = mojor\n",
    "        self.__aptitude = aptitude\n",
    "    \n",
    "\n",
    "    def coding(self):\n",
    "        print(\"now :{} is coding\".format(self.getinfo()))\n",
    "\n",
    "    def getAptitude(self):\n",
    "        print(\"{} is aptitude is:{}\".format(self.getinfo(),self.__aptitude))\n",
    "\n",
    "    def changaptitude(self,aptitude):\n",
    "        self.__aptitude = aptitude\n"
   ]
  },
  {
   "cell_type": "code",
   "execution_count": 38,
   "metadata": {
    "tags": []
   },
   "outputs": [],
   "source": [
    "# จงสร้างตัวแปร instance จากคลาส ComSciStudent\n",
    "comscistudent = ComSciStudent(\"6612732108\",\"comsci\",\"sleep\")\n"
   ]
  },
  {
   "cell_type": "code",
   "execution_count": 45,
   "metadata": {
    "tags": []
   },
   "outputs": [
    {
     "ename": "AttributeError",
     "evalue": "'ComSciStudent' object has no attribute '_Student__student_id'",
     "output_type": "error",
     "traceback": [
      "\u001b[1;31m---------------------------------------------------------------------------\u001b[0m",
      "\u001b[1;31mAttributeError\u001b[0m                            Traceback (most recent call last)",
      "Cell \u001b[1;32mIn[45], line 2\u001b[0m\n\u001b[0;32m      1\u001b[0m \u001b[38;5;66;03m# จงแสดงข้่อมูลนักเรียนของตัวแปร instance \u001b[39;00m\n\u001b[1;32m----> 2\u001b[0m comscistudent\u001b[38;5;241m.\u001b[39mgetinfo()\n",
      "Cell \u001b[1;32mIn[31], line 8\u001b[0m, in \u001b[0;36mStudent.getinfo\u001b[1;34m(self)\u001b[0m\n\u001b[0;32m      7\u001b[0m \u001b[38;5;28;01mdef\u001b[39;00m \u001b[38;5;21mgetinfo\u001b[39m(\u001b[38;5;28mself\u001b[39m):\n\u001b[1;32m----> 8\u001b[0m     \u001b[38;5;28mprint\u001b[39m(\u001b[38;5;124m\"\u001b[39m\u001b[38;5;124mstudent_id:\u001b[39m\u001b[38;5;124m\"\u001b[39m,\u001b[38;5;28mself\u001b[39m\u001b[38;5;241m.\u001b[39m__student_id)\n\u001b[0;32m      9\u001b[0m     \u001b[38;5;28mprint\u001b[39m(\u001b[38;5;124m\"\u001b[39m\u001b[38;5;124mmojor:\u001b[39m\u001b[38;5;124m\"\u001b[39m,\u001b[38;5;28mself\u001b[39m\u001b[38;5;241m.\u001b[39m__mojor)\n",
      "\u001b[1;31mAttributeError\u001b[0m: 'ComSciStudent' object has no attribute '_Student__student_id'"
     ]
    }
   ],
   "source": [
    "# จงแสดงข้่อมูลนักเรียนของตัวแปร instance \n",
    "comscistudent.getinfo()\n"
   ]
  },
  {
   "cell_type": "code",
   "execution_count": 42,
   "metadata": {
    "tags": []
   },
   "outputs": [
    {
     "ename": "AttributeError",
     "evalue": "'ComSciStudent' object has no attribute '_Student__student_id'",
     "output_type": "error",
     "traceback": [
      "\u001b[1;31m---------------------------------------------------------------------------\u001b[0m",
      "\u001b[1;31mAttributeError\u001b[0m                            Traceback (most recent call last)",
      "Cell \u001b[1;32mIn[42], line 2\u001b[0m\n\u001b[0;32m      1\u001b[0m \u001b[38;5;66;03m# จงแสดงการ coding\u001b[39;00m\n\u001b[1;32m----> 2\u001b[0m comscistudent\u001b[38;5;241m.\u001b[39mcoding()\n",
      "Cell \u001b[1;32mIn[37], line 9\u001b[0m, in \u001b[0;36mComSciStudent.coding\u001b[1;34m(self)\u001b[0m\n\u001b[0;32m      8\u001b[0m \u001b[38;5;28;01mdef\u001b[39;00m \u001b[38;5;21mcoding\u001b[39m(\u001b[38;5;28mself\u001b[39m):\n\u001b[1;32m----> 9\u001b[0m     \u001b[38;5;28mprint\u001b[39m(\u001b[38;5;124m\"\u001b[39m\u001b[38;5;124mnow :\u001b[39m\u001b[38;5;132;01m{}\u001b[39;00m\u001b[38;5;124m is coding\u001b[39m\u001b[38;5;124m\"\u001b[39m\u001b[38;5;241m.\u001b[39mformat(\u001b[38;5;28mself\u001b[39m\u001b[38;5;241m.\u001b[39mgetinfo()))\n",
      "Cell \u001b[1;32mIn[31], line 8\u001b[0m, in \u001b[0;36mStudent.getinfo\u001b[1;34m(self)\u001b[0m\n\u001b[0;32m      7\u001b[0m \u001b[38;5;28;01mdef\u001b[39;00m \u001b[38;5;21mgetinfo\u001b[39m(\u001b[38;5;28mself\u001b[39m):\n\u001b[1;32m----> 8\u001b[0m     \u001b[38;5;28mprint\u001b[39m(\u001b[38;5;124m\"\u001b[39m\u001b[38;5;124mstudent_id:\u001b[39m\u001b[38;5;124m\"\u001b[39m,\u001b[38;5;28mself\u001b[39m\u001b[38;5;241m.\u001b[39m__student_id)\n\u001b[0;32m      9\u001b[0m     \u001b[38;5;28mprint\u001b[39m(\u001b[38;5;124m\"\u001b[39m\u001b[38;5;124mmojor:\u001b[39m\u001b[38;5;124m\"\u001b[39m,\u001b[38;5;28mself\u001b[39m\u001b[38;5;241m.\u001b[39m__mojor)\n",
      "\u001b[1;31mAttributeError\u001b[0m: 'ComSciStudent' object has no attribute '_Student__student_id'"
     ]
    }
   ],
   "source": [
    "# จงแสดงการ coding\n",
    "comscistudent.coding()"
   ]
  },
  {
   "cell_type": "code",
   "execution_count": 43,
   "metadata": {
    "tags": []
   },
   "outputs": [
    {
     "ename": "AttributeError",
     "evalue": "'ComSciStudent' object has no attribute '_Student__student_id'",
     "output_type": "error",
     "traceback": [
      "\u001b[1;31m---------------------------------------------------------------------------\u001b[0m",
      "\u001b[1;31mAttributeError\u001b[0m                            Traceback (most recent call last)",
      "Cell \u001b[1;32mIn[43], line 2\u001b[0m\n\u001b[0;32m      1\u001b[0m \u001b[38;5;66;03m# จงแสดงความถนัด\u001b[39;00m\n\u001b[1;32m----> 2\u001b[0m comscistudent\u001b[38;5;241m.\u001b[39mgetAptitude()\n",
      "Cell \u001b[1;32mIn[37], line 12\u001b[0m, in \u001b[0;36mComSciStudent.getAptitude\u001b[1;34m(self)\u001b[0m\n\u001b[0;32m     11\u001b[0m \u001b[38;5;28;01mdef\u001b[39;00m \u001b[38;5;21mgetAptitude\u001b[39m(\u001b[38;5;28mself\u001b[39m):\n\u001b[1;32m---> 12\u001b[0m     \u001b[38;5;28mprint\u001b[39m(\u001b[38;5;124m\"\u001b[39m\u001b[38;5;132;01m{}\u001b[39;00m\u001b[38;5;124m is aptitude is:\u001b[39m\u001b[38;5;132;01m{}\u001b[39;00m\u001b[38;5;124m\"\u001b[39m\u001b[38;5;241m.\u001b[39mformat(\u001b[38;5;28mself\u001b[39m\u001b[38;5;241m.\u001b[39mgetinfo(),\u001b[38;5;28mself\u001b[39m\u001b[38;5;241m.\u001b[39m__aptitude))\n",
      "Cell \u001b[1;32mIn[31], line 8\u001b[0m, in \u001b[0;36mStudent.getinfo\u001b[1;34m(self)\u001b[0m\n\u001b[0;32m      7\u001b[0m \u001b[38;5;28;01mdef\u001b[39;00m \u001b[38;5;21mgetinfo\u001b[39m(\u001b[38;5;28mself\u001b[39m):\n\u001b[1;32m----> 8\u001b[0m     \u001b[38;5;28mprint\u001b[39m(\u001b[38;5;124m\"\u001b[39m\u001b[38;5;124mstudent_id:\u001b[39m\u001b[38;5;124m\"\u001b[39m,\u001b[38;5;28mself\u001b[39m\u001b[38;5;241m.\u001b[39m__student_id)\n\u001b[0;32m      9\u001b[0m     \u001b[38;5;28mprint\u001b[39m(\u001b[38;5;124m\"\u001b[39m\u001b[38;5;124mmojor:\u001b[39m\u001b[38;5;124m\"\u001b[39m,\u001b[38;5;28mself\u001b[39m\u001b[38;5;241m.\u001b[39m__mojor)\n",
      "\u001b[1;31mAttributeError\u001b[0m: 'ComSciStudent' object has no attribute '_Student__student_id'"
     ]
    }
   ],
   "source": [
    "# จงแสดงความถนัด\n",
    "comscistudent.getAptitude()"
   ]
  },
  {
   "cell_type": "code",
   "execution_count": 44,
   "metadata": {
    "tags": []
   },
   "outputs": [],
   "source": [
    "# จงแก้ไขความถนัด ให้เป็น Python Programing\n",
    "comscistudent.changaptitude(\"python programing\")"
   ]
  },
  {
   "cell_type": "code",
   "execution_count": null,
   "metadata": {},
   "outputs": [],
   "source": []
  }
 ],
 "metadata": {
  "kernelspec": {
   "display_name": "Python 3 (ipykernel)",
   "language": "python",
   "name": "python3"
  },
  "language_info": {
   "codemirror_mode": {
    "name": "ipython",
    "version": 3
   },
   "file_extension": ".py",
   "mimetype": "text/x-python",
   "name": "python",
   "nbconvert_exporter": "python",
   "pygments_lexer": "ipython3",
   "version": "3.11.5"
  }
 },
 "nbformat": 4,
 "nbformat_minor": 4
}
