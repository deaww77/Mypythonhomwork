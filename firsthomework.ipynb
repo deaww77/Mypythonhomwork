<<<<<<< HEAD
{
 "cells": [
  {
   "cell_type": "code",
   "execution_count": null,
   "id": "12965b03-8515-4f3a-91bb-df020ad20083",
   "metadata": {},
   "outputs": [],
   "source": [
    "#นายชานนท์ รูปคุ้ม 6612732108\n",
    "print(\"Hello\")\n",
    "print(\"yooooooo\")"
   ]
  }
 ],
 "metadata": {
  "kernelspec": {
   "display_name": "Python 3 (ipykernel)",
   "language": "python",
   "name": "python3"
  },
  "language_info": {
   "codemirror_mode": {
    "name": "ipython",
    "version": 3
   },
   "file_extension": ".py",
   "mimetype": "text/x-python",
   "name": "python",
   "nbconvert_exporter": "python",
   "pygments_lexer": "ipython3",
   "version": "3.11.5"
  }
 },
 "nbformat": 4,
 "nbformat_minor": 5
}
=======
{
 "cells": [
  {
   "cell_type": "code",
   "execution_count": null,
   "id": "12965b03-8515-4f3a-91bb-df020ad20083",
   "metadata": {},
   "outputs": [],
   "source": [
    "#นายชานนท์ รูปคุ้ม 6612732108\n",
    "print(\"Hello\")"
   ]
  }
 ],
 "metadata": {
  "kernelspec": {
   "display_name": "Python 3 (ipykernel)",
   "language": "python",
   "name": "python3"
  },
  "language_info": {
   "codemirror_mode": {
    "name": "ipython",
    "version": 3
   },
   "file_extension": ".py",
   "mimetype": "text/x-python",
   "name": "python",
   "nbconvert_exporter": "python",
   "pygments_lexer": "ipython3",
   "version": "3.11.5"
  }
 },
 "nbformat": 4,
 "nbformat_minor": 5
}
>>>>>>> e97e650 (homwork5)
