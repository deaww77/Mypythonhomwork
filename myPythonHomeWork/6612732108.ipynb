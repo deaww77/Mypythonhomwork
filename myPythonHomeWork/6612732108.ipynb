{
 "cells": [
  {
   "cell_type": "code",
   "execution_count": null,
   "id": "cd64017f-b7aa-4932-bced-6b33b0b11695",
   "metadata": {},
   "outputs": [],
   "source": [
    "\"\"\"\n",
    " นายชานท์ รูปคุ้ม 6612732108\n",
    "\"\"\""
   ]
  },
  {
   "cell_type": "code",
   "execution_count": 4,
   "id": "ee8d7cae-c242-4710-aa6e-23be7ba42a8b",
   "metadata": {
    "tags": []
   },
   "outputs": [
    {
     "name": "stdout",
     "output_type": "stream",
     "text": [
      "\n",
      "* \n",
      "* * \n",
      "* * * \n",
      "* * * * \n",
      "* * * * * \n"
     ]
    }
   ],
   "source": [
    "#ข้อ 1\n",
    "for i in range(0, 6):\n",
    "    for j in range(0, i):\n",
    "        print(\"*\",end=\" \")\n",
    "    print('')"
   ]
  },
  {
   "cell_type": "code",
   "execution_count": 54,
   "id": "524d4708-08ea-4ea5-80de-d3d3cf673131",
   "metadata": {
    "tags": []
   },
   "outputs": [
    {
     "name": "stdout",
     "output_type": "stream",
     "text": [
      "           *\n",
      "         * *\n",
      "       * * *\n",
      "     * * * *\n",
      "   * * * * *\n",
      " * * * * * *\n"
     ]
    }
   ],
   "source": [
    "#ข้อ 2\n",
    "num = 6\n",
    "#end = num -1\n",
    "for i in range(0, num):#row\n",
    "    for j in range(0, num):#แถวแนวนอน\n",
    "        if j >= 5 - i:\n",
    "            print(\" *\", end=\"\")\n",
    "        else:\n",
    "            print(\"  \", end=\"\")#\n",
    "    print('')"
   ]
  },
  {
   "cell_type": "code",
   "execution_count": 17,
   "id": "0c8b8c31-303c-47a0-87c0-92107803c4bd",
   "metadata": {
    "tags": []
   },
   "outputs": [
    {
     "name": "stdout",
     "output_type": "stream",
     "text": [
      "* * * * * \n",
      "* * * * \n",
      "* * * \n",
      "* * \n",
      "* \n"
     ]
    }
   ],
   "source": [
    "#ข้อ 3\n",
    "for i in range(5, 0,-1):\n",
    "    for j in range(i, 0, -1):\n",
    "           print(\"*\",end=\" \")\n",
    "    print('')"
   ]
  },
  {
   "cell_type": "code",
   "execution_count": 60,
   "id": "e955e754-0b5f-48db-b504-86c208b84ef5",
   "metadata": {
    "tags": []
   },
   "outputs": [
    {
     "name": "stdout",
     "output_type": "stream",
     "text": [
      " * * * * *  \n",
      " * * * *    \n",
      " * * *      \n",
      " * *        \n",
      " *          \n",
      "            \n"
     ]
    }
   ],
   "source": [
    "#ข้อ 4 \n",
    "num = 6\n",
    "end = num -1\n",
    "for i in range(0, num):#row\n",
    "    for j in range(0, num):#แถวแนวนอน\n",
    "        if j >= end - i:\n",
    "            print(\"  \",end=\"\")\n",
    "        else:\n",
    "            print(\" *\", end=\"\")\n",
    "    print('')#หล่อเท่ๆ"
   ]
  },
  {
   "cell_type": "code",
   "execution_count": null,
   "id": "c7fd6a0a-45a3-4346-bee6-0c6aeb2e1216",
   "metadata": {},
   "outputs": [],
   "source": []
  }
 ],
 "metadata": {
  "kernelspec": {
   "display_name": "Python 3 (ipykernel)",
   "language": "python",
   "name": "python3"
  },
  "language_info": {
   "codemirror_mode": {
    "name": "ipython",
    "version": 3
   },
   "file_extension": ".py",
   "mimetype": "text/x-python",
   "name": "python",
   "nbconvert_exporter": "python",
   "pygments_lexer": "ipython3",
   "version": "3.11.5"
  }
 },
 "nbformat": 4,
 "nbformat_minor": 5
}
