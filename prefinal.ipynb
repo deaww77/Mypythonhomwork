{
 "cells": [
  {
   "cell_type": "markdown",
   "id": "cf8d8fdf-562f-456f-8d6a-c8cde53f14d2",
   "metadata": {},
   "source": [
    "# ข้อสอบเก็บคะแนน\n",
    "## วิชาการเขียนโปรแกรมเชิงวัตถุ\n",
    "## ประจำภาคการศึกษา 2/2566\n",
    "\n",
    "### สอนโดย ผู้ช่วยศาสตราจารย์พิศาล สุขขี\n",
    "\n",
    "คำชี้แจง ข้อสอบแบ่งออกเป็น 2 ส่วน (รวม 20 คะแนน)\n",
    "\n",
    "ส่วนที่ 1 : ทดสอบความรู้ความเข้าใจพื้่นฐานการเขียนโปรแกรมภาษาไพธิน 5 ข้อ ข้อละ 2 คะแนน (รวม 10 คะแนน)\n",
    "\n",
    "ส่วนที่ 2 : ทดสอบการประยุกต์แก้ไขปัญหาโจทย์โปรแกรม 2 ข้อ ข้อละ 5 คะแนน (รวม 10 คะแนน)"
   ]
  },
  {
   "cell_type": "code",
   "execution_count": null,
   "id": "5140cc44-b420-4cb7-86a4-edef699f2d73",
   "metadata": {},
   "outputs": [],
   "source": [
    "นาย ชานนท์ รูปคุ้ม รหัส 6612732108"
   ]
  },
  {
   "cell_type": "markdown",
   "id": "358450fe-fd91-4a16-8ad5-0ba911dadd5e",
   "metadata": {},
   "source": [
    "<hr>"
   ]
  },
  {
   "cell_type": "markdown",
   "id": "b2181e6a-5ade-4b0b-80ac-41e84325f9fc",
   "metadata": {},
   "source": [
    "# ส่วนที่ 1 ข้อละ 2 คะแนน"
   ]
  },
  {
   "cell_type": "markdown",
   "id": "6f8c1c6c-4fbe-4ad8-acb7-a8d25b65a450",
   "metadata": {},
   "source": [
    "### 1. โปรแกรมนี้ต้องการให้ผู้ใช้งานงานเลือกกรอกจำนวนใด ๆ เข้ามา เพื่อทายว่า ตัวเลขที่กรอกเข้ามาจะตรงกับตัวเลขที่ถูกเลือกไว้หรือไม่\n",
    "\n",
    "จงเติมโปรแกรมให้มีความสมบูรณ์"
   ]
  },
  {
   "cell_type": "code",
   "execution_count": 4,
   "id": "fa9aea5e-a450-40e1-93bd-5840adf769d8",
   "metadata": {
    "tags": []
   },
   "outputs": [
    {
     "name": "stdin",
     "output_type": "stream",
     "text": [
      "เลขที่ทาย 1-10 คือ  3\n"
     ]
    },
    {
     "name": "stdout",
     "output_type": "stream",
     "text": [
      "คุณทายถูกแล้วค่ะ\n"
     ]
    }
   ],
   "source": [
    "# คำตอบ\n",
    "puzzle = 3 \n",
    "guess = int(input('เลขที่ทาย 1-10 คือ '))\n",
    "\n",
    "if guess == 3:\n",
    "    print('คุณทายถูกแล้วค่ะ')\n",
    "else:\n",
    "    print('คุณยังทายไม่ถูกค่ะ')"
   ]
  },
  {
   "cell_type": "markdown",
   "id": "38faf10a-74aa-4cc5-96a0-57f72771207e",
   "metadata": {},
   "source": [
    "## 2. จงเขียนโปรแกรมเพื่อรับค่าเข้ามาจาก keyboard แล้วตรวจสอบว่าค่าทีรับมานั้นเป็นจำนวนคู่หรือไม่\n",
    "\n",
    "ถ้่าเป็นจำนวนคู่ ให้แสดงผลออกทางหน้าจอว่า \"จำนวนคู่\"\n",
    "ถ้่าไม่เป็นจำนวนคู่ ให้แสดงผลออกทางหน้าจอว่า \"ไม่ใช่จำนวนคู่\""
   ]
  },
  {
   "cell_type": "code",
   "execution_count": 35,
   "id": "01e188b8-e7de-4029-9aa3-d3bd99c687d6",
   "metadata": {
    "tags": []
   },
   "outputs": [
    {
     "name": "stdin",
     "output_type": "stream",
     "text": [
      "enter number: 9\n"
     ]
    },
    {
     "name": "stdout",
     "output_type": "stream",
     "text": [
      "ไม่ใช่จำนวนคู่\n"
     ]
    }
   ],
   "source": [
    "# คำตอบ\n",
    "num = int(input(\"enter number:\"))\n",
    "if num % 2 ==0:\n",
    "    print(\"เป็นจำนวนคู่\")\n",
    "else:\n",
    "    print(\"ไม่ใช่จำนวนคู่\")"
   ]
  },
  {
   "cell_type": "markdown",
   "id": "65b7ce3b-28e0-4602-bc40-4a85f19a1e9c",
   "metadata": {},
   "source": [
    "## 3. จงเขียนโปรแกรมเพื่อรับค่าทาง keyboard แล้วตรวจสอบ ว่า\n",
    "\n",
    "- ถ้าหากจำนวนนั้นมีค่่าน้อยกว่า 10 ให้แจ้งว่า \"ค่าที่ท่านกรอก มีค่าน้อยกว่า 10\"\n",
    "- ถ้าหากจำนวนนั้นมีค่่าเท่ากับ 10 ให้แจ้งว่า \"ค่าที่ท่านกรอก มีค่าเท่ากับ 10\"\n",
    "- ถ้าหากจำนวนนั้นมีค่่ามากกว่า 10 ให้แจ้งว่า \"ค่าที่ท่านกรอก มีค่ามากกว่า 10\""
   ]
  },
  {
   "cell_type": "code",
   "execution_count": 8,
   "id": "0fe7fe4b-a04e-444d-90a4-1ca159440cb1",
   "metadata": {
    "tags": []
   },
   "outputs": [
    {
     "name": "stdin",
     "output_type": "stream",
     "text": [
      "enter number: 10\n"
     ]
    },
    {
     "name": "stdout",
     "output_type": "stream",
     "text": [
      "ค่าที่ท่านกรอก มีค่าเท่ากับ 10\n"
     ]
    }
   ],
   "source": [
    "# คำตอบ\n",
    "num = int(input(\"enter number:\"))\n",
    "if num == 10:\n",
    "    print(\"ค่าที่ท่านกรอก มีค่าเท่ากับ 10\")\n",
    "elif num > 10:\n",
    "    print(\"ค่าที่ท่านกรอก มีค่ามากกว่า 10\")\n",
    "else:\n",
    "    print(\"ค่าที่ท่านกรอก มีค่าน้อยกว่า 10\")\n"
   ]
  },
  {
   "cell_type": "markdown",
   "id": "f2bb3c11-460d-42e0-a4c6-410e031dc89f",
   "metadata": {},
   "source": [
    "## 4. ให้เขียนโปรแกรมเพื่อตรวจสอบว่ามีเลขใดบ้างในช่วง 1 ถึง 100 ที่หารด้วย 3 ลงตัว"
   ]
  },
  {
   "cell_type": "code",
   "execution_count": 34,
   "id": "9dbec0ab-5b56-4ae7-91e9-512ddecb469e",
   "metadata": {
    "tags": []
   },
   "outputs": [
    {
     "name": "stdout",
     "output_type": "stream",
     "text": [
      "ตัวที่หาร 3 ลงตัว: 3\n",
      "ตัวที่หาร 3 ลงตัว: 6\n",
      "ตัวที่หาร 3 ลงตัว: 9\n",
      "ตัวที่หาร 3 ลงตัว: 12\n",
      "ตัวที่หาร 3 ลงตัว: 15\n",
      "ตัวที่หาร 3 ลงตัว: 18\n",
      "ตัวที่หาร 3 ลงตัว: 21\n",
      "ตัวที่หาร 3 ลงตัว: 24\n",
      "ตัวที่หาร 3 ลงตัว: 27\n",
      "ตัวที่หาร 3 ลงตัว: 30\n",
      "ตัวที่หาร 3 ลงตัว: 33\n",
      "ตัวที่หาร 3 ลงตัว: 36\n",
      "ตัวที่หาร 3 ลงตัว: 39\n",
      "ตัวที่หาร 3 ลงตัว: 42\n",
      "ตัวที่หาร 3 ลงตัว: 45\n",
      "ตัวที่หาร 3 ลงตัว: 48\n",
      "ตัวที่หาร 3 ลงตัว: 51\n",
      "ตัวที่หาร 3 ลงตัว: 54\n",
      "ตัวที่หาร 3 ลงตัว: 57\n",
      "ตัวที่หาร 3 ลงตัว: 60\n",
      "ตัวที่หาร 3 ลงตัว: 63\n",
      "ตัวที่หาร 3 ลงตัว: 66\n",
      "ตัวที่หาร 3 ลงตัว: 69\n",
      "ตัวที่หาร 3 ลงตัว: 72\n",
      "ตัวที่หาร 3 ลงตัว: 75\n",
      "ตัวที่หาร 3 ลงตัว: 78\n",
      "ตัวที่หาร 3 ลงตัว: 81\n",
      "ตัวที่หาร 3 ลงตัว: 84\n",
      "ตัวที่หาร 3 ลงตัว: 87\n",
      "ตัวที่หาร 3 ลงตัว: 90\n",
      "ตัวที่หาร 3 ลงตัว: 93\n",
      "ตัวที่หาร 3 ลงตัว: 96\n",
      "ตัวที่หาร 3 ลงตัว: 99\n"
     ]
    }
   ],
   "source": [
    "# คำตอบ\n",
    "for i in range(1,101):\n",
    "    if i % 3 ==0:\n",
    "        print(\"ตัวที่หาร 3 ลงตัว:\",i)\n"
   ]
  },
  {
   "cell_type": "markdown",
   "id": "008981d7-b535-46f2-a4eb-e44ff96af393",
   "metadata": {},
   "source": [
    "## 5. จงเขียนโปรแกรมเพื่อรับค่าจาก kayboard เข้ามาเรื่อย ๆ และเก็บค่านั้นไว้ใน List จนกว่าผู้ใช้จะป้อน 'q'\n"
   ]
  },
  {
   "cell_type": "code",
   "execution_count": 11,
   "id": "ab73ce7c-116f-44ec-8be9-a6643cd8089b",
   "metadata": {
    "tags": []
   },
   "outputs": [
    {
     "name": "stdin",
     "output_type": "stream",
     "text": [
      "enter one string: r\n",
      "enter one string: g\n",
      "enter one string: h\n",
      "enter one string: 5\n",
      "enter one string: q\n"
     ]
    },
    {
     "name": "stdout",
     "output_type": "stream",
     "text": [
      "['r', 'g', 'h', '5', 'q']\n",
      "exite\n"
     ]
    }
   ],
   "source": [
    "# คำตอบ\n",
    "lt = []\n",
    "while True:\n",
    "    string = input(\"enter one string:\")\n",
    "    lt.append(string)\n",
    "    if string == 'q' or string == 'Q':\n",
    "        print(lt)\n",
    "        print(\"exite\")\n",
    "        break"
   ]
  },
  {
   "cell_type": "markdown",
   "id": "d4ed0cfb-9f00-4882-aa63-8f6d576bbdd6",
   "metadata": {},
   "source": [
    "<hr>"
   ]
  },
  {
   "cell_type": "markdown",
   "id": "d7ae6696-874c-44a1-9067-c8e339df4246",
   "metadata": {},
   "source": [
    "# ส่วนที่ 2 ข้อละ 5 คะแนน"
   ]
  },
  {
   "cell_type": "markdown",
   "id": "bb278ca2-30bf-45ae-9d24-9f1807c0d1fb",
   "metadata": {},
   "source": [
    "## 6. จงเขียนโปรแกรมเพื่อให้แสดงในรูปแบบดังต่อไปนี้"
   ]
  },
  {
   "cell_type": "code",
   "execution_count": 36,
   "id": "ea341ede-ee01-4c71-a6aa-b7557a580952",
   "metadata": {
    "collapsed": true,
    "jupyter": {
     "outputs_hidden": true
    },
    "tags": []
   },
   "outputs": [
    {
     "data": {
      "text/plain": [
       "'\\n1 1 1 1 1 \\n2 2 2 2 \\n3 3 3 \\n4 4 \\n5\\n'"
      ]
     },
     "execution_count": 36,
     "metadata": {},
     "output_type": "execute_result"
    }
   ],
   "source": [
    "'''\n",
    "1 1 1 1 1 \n",
    "2 2 2 2 \n",
    "3 3 3 \n",
    "4 4 \n",
    "5\n",
    "'''"
   ]
  },
  {
   "cell_type": "code",
   "execution_count": 31,
   "id": "148c82f0-8684-4394-b211-dc5420ff15b7",
   "metadata": {
    "tags": []
   },
   "outputs": [
    {
     "name": "stdout",
     "output_type": "stream",
     "text": [
      "1 1 1 1 1 \n",
      "2 2 2 2 \n",
      "3 3 3 \n",
      "4 4 \n",
      "5 \n"
     ]
    }
   ],
   "source": [
    "# คำตอบ\n",
    "num = 0\n",
    "for i in range(5,0,-1):\n",
    "    num += 1\n",
    "    for j in range(1,i+1):\n",
    "        print(num, end=\" \")\n",
    "    print(\"\")\n"
   ]
  },
  {
   "cell_type": "markdown",
   "id": "2d3e9f69-b89e-430b-a310-c443bf95f659",
   "metadata": {},
   "source": [
    "## 7. จงเขียนโปรแกรมเพื่อให้แสดงในรูปแบบดังต่อไปนี้"
   ]
  },
  {
   "cell_type": "code",
   "execution_count": null,
   "id": "eafb188c-e33d-46c9-a403-c97c16c066ca",
   "metadata": {},
   "outputs": [],
   "source": [
    "'''\n",
    "1 \n",
    "1 2 \n",
    "1 2 3 \n",
    "1 2 3 4 \n",
    "1 2 3 4 5\n",
    "'''"
   ]
  },
  {
   "cell_type": "code",
   "execution_count": 33,
   "id": "07acb60a-a82d-4b51-8589-28caab76afc6",
   "metadata": {
    "tags": []
   },
   "outputs": [
    {
     "name": "stdout",
     "output_type": "stream",
     "text": [
      "1 \n",
      "1 2 \n",
      "1 2 3 \n",
      "1 2 3 4 \n",
      "1 2 3 4 5 \n"
     ]
    }
   ],
   "source": [
    "# คำตอบ\n",
    "for i in range(1,6):\n",
    "    for j in range(1,i+1):\n",
    "        print(j, end=\" \")\n",
    "    print(\"\")\n"
   ]
  },
  {
   "cell_type": "markdown",
   "id": "a68243aa-a5f9-43ba-bdac-8a6e584fa436",
   "metadata": {},
   "source": [
    "<hr>"
   ]
  },
  {
   "cell_type": "markdown",
   "id": "84e801c6-bb0e-4b5a-a792-5e7026806225",
   "metadata": {},
   "source": [
    "**ข้อให้ทุกคนโชคดีในการสอบ**<br>\n",
    "ผู้ช่วยศาสตราจารย์พิศาล สุขขี<br>\n",
    "สาขาวิทยาการคอมพิวเตอร์<br>\n",
    "มหาวิทยาลัยราชภัฏศรีสะเกษ"
   ]
  }
 ],
 "metadata": {
  "kernelspec": {
   "display_name": "Python 3 (ipykernel)",
   "language": "python",
   "name": "python3"
  },
  "language_info": {
   "codemirror_mode": {
    "name": "ipython",
    "version": 3
   },
   "file_extension": ".py",
   "mimetype": "text/x-python",
   "name": "python",
   "nbconvert_exporter": "python",
   "pygments_lexer": "ipython3",
   "version": "3.11.5"
  }
 },
 "nbformat": 4,
 "nbformat_minor": 5
}
